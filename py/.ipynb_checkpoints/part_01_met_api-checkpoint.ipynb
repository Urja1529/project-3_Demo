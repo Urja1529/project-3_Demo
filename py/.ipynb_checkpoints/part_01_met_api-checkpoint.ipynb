{
 "cells": [
  {
   "cell_type": "code",
   "execution_count": 1,
   "id": "ff4c6e1f-32f9-4bf9-876d-aca0d8dc5e8a",
   "metadata": {
    "tags": []
   },
   "outputs": [],
   "source": [
    "import pandas as pd\n",
    "import re\n",
    "\n",
    "import requests\n",
    "import json\n",
    "from pprint import pprint\n",
    "import time"
   ]
  },
  {
   "cell_type": "code",
   "execution_count": 46,
   "id": "7117411f-6222-4e22-b0c5-95dc5fdcc584",
   "metadata": {
    "tags": []
   },
   "outputs": [],
   "source": [
    "# require object id for cat and dog, unable to avoid overlap with other words\n",
    "\n",
    "cat_url = \"https://collectionapi.metmuseum.org/public/collection/v1/search?q=cat\"\n",
    "cat_id = requests.get(cat_url).json()\n",
    "\n",
    "dog_url = \"https://collectionapi.metmuseum.org/public/collection/v1/search?q=dog\"\n",
    "dog_id = requests.get(dog_url).json()"
   ]
  },
  {
   "cell_type": "code",
   "execution_count": 47,
   "id": "624e7241-ab43-4176-9f5a-18f4a009cca2",
   "metadata": {
    "tags": []
   },
   "outputs": [
    {
     "name": "stdout",
     "output_type": "stream",
     "text": [
      "cat objects 45903\n",
      "dog objects 5463\n",
      "total objects 51366\n"
     ]
    }
   ],
   "source": [
    "# combine object id list\n",
    "id_list = cat_id['objectIDs'] + dog_id['objectIDs']\n",
    "\n",
    "cat_n = len(cat_id['objectIDs'])\n",
    "dog_n = len(dog_id['objectIDs'])\n",
    "\n",
    "print(f'cat objects {cat_n}')\n",
    "print(f'dog objects {dog_n}')\n",
    "print(f'total objects {len(id_list)}')"
   ]
  },
  {
   "cell_type": "code",
   "execution_count": 23,
   "id": "63d1f67f-39e6-4174-bada-5fc46f6718ab",
   "metadata": {
    "tags": []
   },
   "outputs": [
    {
     "name": "stdout",
     "output_type": "stream",
     "text": [
      "47000 / 51366\n",
      "48000 / 51366\n",
      "49000 / 51366\n",
      "50000 / 51366\n",
      "51000 / 51366\n",
      "----------complete-----\n"
     ]
    }
   ],
   "source": [
    "# require each object's data, due to api shut down in middle, there are multiple file for api request\n",
    "object_json = {}\n",
    "id_n = len(id_list)\n",
    "\n",
    "for i in range(i,id_n):\n",
    "    temp_url = f'https://collectionapi.metmuseum.org/public/collection/v1/objects/{id_list[i]}'\n",
    "    temp_response = requests.get(temp_url).json()\n",
    "    object_json[f'id_{id_list[i]}'] = temp_response\n",
    "    \n",
    "    time.sleep(0.01) # less than 70 calls/second\n",
    "    \n",
    "    if (i+1) % 1000 == 0 :\n",
    "        print( f'{i+1} / {id_n}' )\n",
    "        \n",
    "print(\"----------complete-----\")"
   ]
  },
  {
   "cell_type": "code",
   "execution_count": 25,
   "id": "07b28f63-eb78-4b16-9f00-504c26a424f5",
   "metadata": {
    "tags": []
   },
   "outputs": [],
   "source": [
    "# save json file. due to api shut down for several times, we have multiple files\n",
    "with open(\"../data/original_data/original_api_output_4.json\", \"w\") as outfile:\n",
    "    json.dump(object_json, outfile)"
   ]
  },
  {
   "cell_type": "code",
   "execution_count": 11,
   "id": "8b81723f-c111-42a8-a490-63f93dbc42c4",
   "metadata": {},
   "outputs": [],
   "source": [
    "# help file to assinge geolocation\n",
    "map_df = pd.read_csv( \"../data/original_data/map_point.csv\" )\n",
    "\n",
    "# function to clean data\n",
    "def CleanData(object_json , start_json) :\n",
    "    for o_id in object_json :\n",
    "        try: # SKIP - \"not valid object\"\n",
    "\n",
    "            temp_object = {}\n",
    "            object_one = object_json[o_id]\n",
    "            # object_one['testline'] = \"cat's\"\n",
    "\n",
    "            # test if the object fit word 'cat|cats' or 'dog|dogs' , there are lots overlapping in search, ie. category\n",
    "            test_cat = bool(re.search( '[^a-z](cat|cats)[^a-z]' , str(object_one) , re.IGNORECASE )) # team cat\n",
    "            test_dog = bool(re.search( '[^a-z](dog|dogs)[^a-z]' , str(object_one) , re.IGNORECASE )) # team dog\n",
    "\n",
    "            if any( [test_cat , test_dog] ) : # SKIP - objects with overlapping words\n",
    "\n",
    "                # team\n",
    "                if all( [test_cat , test_dog] ):\n",
    "                    temp_object['team'] = 'both' # team both\n",
    "                elif test_cat :\n",
    "                    temp_object['team'] = 'cat'\n",
    "                elif test_dog :\n",
    "                    temp_object['team'] = 'dog'\n",
    "                else :\n",
    "                    temp_object['team'] = 'NA' # based on loop design, should not have team NA\n",
    "\n",
    "                # basic object info\n",
    "                temp_object['objectID'] = object_one['objectID']\n",
    "                temp_object['displayGallery'] = object_one['GalleryNumber']\n",
    "                temp_object['objectName'] = object_one['objectName']\n",
    "                temp_object['objectURL'] = object_one['objectURL']\n",
    "                temp_object['objectImage'] = object_one['primaryImageSmall']\n",
    "                if len(temp_object['objectImage']) > 0 :\n",
    "                    temp_object['isImage'] = True\n",
    "                else:\n",
    "                    temp_object['isImage'] = False\n",
    "                temp_object['title'] = object_one['title']\n",
    "\n",
    "                temp_object['artist'] = object_one['artistDisplayName']\n",
    "                temp_object['department'] = object_one['department']\n",
    "                temp_object['isHighlight'] = object_one['isHighlight']\n",
    "                temp_object['classification'] = object_one['classification']\n",
    "                temp_object['medium'] = object_one['medium']\n",
    "                temp_object['culture'] = object_one['culture']\n",
    "                temp_object['period'] = object_one['period']\n",
    "                temp_object['region'] = object_one['region']\n",
    "\n",
    "                # Object Year and dateing \n",
    "                temp_year = int(object_one['objectBeginDate'])\n",
    "                temp_object['year'] = temp_year\n",
    "                \n",
    "                # YearDecade\n",
    "                temp_object['yearDecade'] = f'{(temp_year // 10)*10}s'\n",
    "\n",
    "                # YearCentury. BC, AD\n",
    "                temp_century = (temp_year - 1) // 100 + 1\n",
    "                try:\n",
    "                    if temp_century < 0 :\n",
    "                        temp_object['yearCentury'] = f'{ abs(temp_century) } BC'\n",
    "                    else :\n",
    "                        temp_object['yearCentury'] = f'{ temp_century } AD'\n",
    "                    temp_object['yearCenturyInt'] = temp_century*100\n",
    "                except:\n",
    "                    temp_object['yearCentury'] = 'NA'\n",
    "                \n",
    "                # YearMultipleCentury\n",
    "                temp_mcentry = temp_century // 5\n",
    "                try:\n",
    "                    if temp_mcentry < 0 :\n",
    "                        temp_object['yearCenturyMultiple'] = \"B.C.\"\n",
    "                    elif temp_mcentry == 1 :\n",
    "                        temp_object['yearCenturyMultiple'] = \"1st to 5th Century\"\n",
    "                    elif temp_mcentry == 2 :\n",
    "                        temp_object['yearCenturyMultiple'] = \"6th to 10th Century\"\n",
    "                    elif temp_mcentry == 3 :\n",
    "                        temp_object['yearCenturyMultiple'] = \"11th to 15th Century\"\n",
    "                    elif temp_mcentry == 4 :\n",
    "                        temp_object['yearCenturyMultiple'] = \"16th to 20th Century\"\n",
    "                    elif temp_mcentry == 5 :\n",
    "                        temp_object['yearCenturyMultiple'] = \"21th Century\"\n",
    "                except:\n",
    "                    temp_object['yearCenturyMultiple'] = 'NA'                        \n",
    "\n",
    "                # Object Country, use object country if not blank, otherwise use artistNationality or culture\n",
    "                try:\n",
    "                    if len( object_one['country'] ) > 0:\n",
    "                        temp_country = re.findall( '[\\w\\s\\.]+' , object_one['country'] )[0].strip()\n",
    "                    elif len( object_one['artistNationality'] ) > 0:\n",
    "                        temp_country = re.findall( '[\\w\\s\\.]+' , object_one['artistNationality'] )[0].strip()\n",
    "                    else:\n",
    "                        temp_country = re.findall( '[\\w\\s\\.]+' , object_one['culture'] )[0].strip()\n",
    "                except:\n",
    "                    temp_country = 'NA'\n",
    "\n",
    "                temp_object['country'] = temp_country\n",
    "                \n",
    "                # TBC - countryGeo, convert country to formal country with Geocode. Geocode file is prepared based on met_data's country list.\n",
    "                try:\n",
    "                    temp_object['geoCode'] = map_df.loc[ map_df['country'] == temp_country][\"geoCode\"].item()\n",
    "                except:\n",
    "                    temp_object['geoCode'] = \"NA\"\n",
    "                \n",
    "                # TBC - Continent\n",
    "                try:\n",
    "                    temp_object['continent'] = 'NA'\n",
    "                except:\n",
    "                    pass\n",
    "                \n",
    "                # Object Tags. combine multiple tags to one string\n",
    "                try:\n",
    "                    object_tags = object_one['tags']\n",
    "                    tmep_tags = []\n",
    "                    for one_tag in object_tags:\n",
    "                        tmep_tags.append(one_tag['term'])\n",
    "                    temp_object['tags'] = ', '.join(tmep_tags)\n",
    "                except:\n",
    "                    temp_object['tags'] = 'NA'\n",
    "\n",
    "                # add object pass test, with selected content to clean database\n",
    "                start_json.append(temp_object)\n",
    "                # print( o_id, temp_object['team'] )\n",
    "        except:\n",
    "            pass\n",
    "                \n",
    "    return start_json"
   ]
  },
  {
   "cell_type": "code",
   "execution_count": 14,
   "id": "c732248d-a4cd-43c3-b617-ad8882e8ea6c",
   "metadata": {
    "tags": []
   },
   "outputs": [
    {
     "name": "stdout",
     "output_type": "stream",
     "text": [
      "../data/original_data/original_api_output_1.json\n",
      "original count 28172\n",
      "clean count 1576\n",
      "../data/original_data/original_api_output_2.json\n",
      "original count 1067\n",
      "clean count 16\n",
      "../data/original_data/original_api_output_3.json\n",
      "original count 17288\n",
      "clean count 797\n",
      "../data/original_data/original_api_output_4.json\n",
      "original count 4815\n",
      "clean count 3475\n",
      "total clean count 5864\n"
     ]
    }
   ],
   "source": [
    "# read all files and select object with proper key words\n",
    "\n",
    "start_json = []\n",
    "\n",
    "def ReadJson( path ):\n",
    "    start_n = len(start_json)\n",
    "    print( path )\n",
    "    path = open(path)\n",
    "    object_json = json.load( path )\n",
    "    print(f'original count {len(object_json)}')\n",
    "    clean_json = CleanData(object_json , start_json) # use function to clean and select data\n",
    "    print(f'clean count {len(start_json) - start_n}' )\n",
    "    return start_json\n",
    "\n",
    "clean_1 = ReadJson( '../data/original_data/original_api_output_1.json' )\n",
    "clean_2 = ReadJson( '../data/original_data/original_api_output_2.json' )\n",
    "clean_3 = ReadJson( '../data/original_data/original_api_output_3.json' )\n",
    "clean_4 = ReadJson( '../data/original_data/original_api_output_4.json' )\n",
    "    \n",
    "print(f'total clean count {len(start_json)}' )\n",
    "\n",
    "with open(\"../data/met_data.json\", \"w\") as outfile:\n",
    "    json.dump(start_json, outfile)"
   ]
  },
  {
   "cell_type": "code",
   "execution_count": null,
   "id": "eccf2608-8c0e-402a-8239-e9d254d9c0b3",
   "metadata": {},
   "outputs": [],
   "source": [
    "# convert to sqlite by online converter"
   ]
  }
 ],
 "metadata": {
  "kernelspec": {
   "display_name": "Python 3 (ipykernel)",
   "language": "python",
   "name": "python3"
  },
  "language_info": {
   "codemirror_mode": {
    "name": "ipython",
    "version": 3
   },
   "file_extension": ".py",
   "mimetype": "text/x-python",
   "name": "python",
   "nbconvert_exporter": "python",
   "pygments_lexer": "ipython3",
   "version": "3.10.12"
  }
 },
 "nbformat": 4,
 "nbformat_minor": 5
}
